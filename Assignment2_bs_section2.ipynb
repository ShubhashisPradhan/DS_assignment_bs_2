{
  "nbformat": 4,
  "nbformat_minor": 0,
  "metadata": {
    "colab": {
      "provenance": []
    },
    "kernelspec": {
      "name": "python3",
      "display_name": "Python 3"
    },
    "language_info": {
      "name": "python"
    }
  },
  "cells": [
    {
      "cell_type": "code",
      "execution_count": null,
      "metadata": {
        "id": "oK9aJ9kYkoId"
      },
      "outputs": [],
      "source": [
        "import pandas as pd\n",
        "import numpy as np\n",
        "from scipy import stats"
      ]
    },
    {
      "cell_type": "code",
      "source": [
        "#q1 service manager can go his job\n",
        "np.round(stats.norm.cdf(50,loc=45,scale=8),4)"
      ],
      "metadata": {
        "colab": {
          "base_uri": "https://localhost:8080/"
        },
        "id": "xjroLwEWwJM3",
        "outputId": "a349348e-124c-4ace-eb8a-71d8107ae0d3"
      },
      "execution_count": null,
      "outputs": [
        {
          "output_type": "execute_result",
          "data": {
            "text/plain": [
              "0.734"
            ]
          },
          "metadata": {},
          "execution_count": 3
        }
      ]
    },
    {
      "cell_type": "code",
      "source": [
        "#q2 p(38<age<44) or p(age>44) mean =38, std = 6 \n",
        "age_lessthan_44=stats.norm.cdf(44,loc=38,scale=6)\n",
        "age_lessthan_38=stats.norm.cdf(38,loc=38,scale=6)"
      ],
      "metadata": {
        "id": "-wElkjp-xM4k"
      },
      "execution_count": null,
      "outputs": []
    },
    {
      "cell_type": "code",
      "source": [
        "#p(38<age<44)\n",
        "age_lessthan_44-age_lessthan_38"
      ],
      "metadata": {
        "colab": {
          "base_uri": "https://localhost:8080/"
        },
        "id": "fZ4JZTRK2IsB",
        "outputId": "331e49ae-d5d5-4f10-90a3-d1345783c854"
      },
      "execution_count": null,
      "outputs": [
        {
          "output_type": "execute_result",
          "data": {
            "text/plain": [
              "0.3413447460685429"
            ]
          },
          "metadata": {},
          "execution_count": 5
        }
      ]
    },
    {
      "cell_type": "code",
      "source": [
        "#p(age>44)\n",
        "1-age_lessthan_44"
      ],
      "metadata": {
        "colab": {
          "base_uri": "https://localhost:8080/"
        },
        "id": "q1fxeGoe5DXo",
        "outputId": "1f0522d2-3156-434c-e842-8ed13ffcdcf8"
      },
      "execution_count": null,
      "outputs": [
        {
          "output_type": "execute_result",
          "data": {
            "text/plain": [
              "0.15865525393145707"
            ]
          },
          "metadata": {},
          "execution_count": 6
        }
      ]
    },
    {
      "cell_type": "code",
      "source": [
        "#p(age<30)\n",
        "stats.norm.cdf(30,loc=38,scale=6)*400"
      ],
      "metadata": {
        "colab": {
          "base_uri": "https://localhost:8080/"
        },
        "id": "JjHd8xqcjsqY",
        "outputId": "056e8ebc-8f72-4c52-acbf-b3724339df5c"
      },
      "execution_count": null,
      "outputs": [
        {
          "output_type": "execute_result",
          "data": {
            "text/plain": [
              "36.484487890347154"
            ]
          },
          "metadata": {},
          "execution_count": 7
        }
      ]
    },
    {
      "cell_type": "code",
      "source": [
        "stats.norm.ppf(0.005)"
      ],
      "metadata": {
        "id": "cS5u9_58j_Qk",
        "colab": {
          "base_uri": "https://localhost:8080/"
        },
        "outputId": "fe120e5b-2036-4dcd-ea1f-f381dcaa4a44"
      },
      "execution_count": null,
      "outputs": [
        {
          "output_type": "execute_result",
          "data": {
            "text/plain": [
              "-2.575829303548901"
            ]
          },
          "metadata": {},
          "execution_count": 8
        }
      ]
    },
    {
      "cell_type": "code",
      "source": [
        "stats.norm.ppf(0.025)"
      ],
      "metadata": {
        "colab": {
          "base_uri": "https://localhost:8080/"
        },
        "id": "xcy77dS3sHCb",
        "outputId": "c141e1bd-c657-45b2-c02f-3ee7cdbc37fa"
      },
      "execution_count": null,
      "outputs": [
        {
          "output_type": "execute_result",
          "data": {
            "text/plain": [
              "-1.9599639845400545"
            ]
          },
          "metadata": {},
          "execution_count": 9
        }
      ]
    },
    {
      "cell_type": "code",
      "source": [
        "#q5 interval calculation for profit \n",
        "stats.norm.interval(0.95,540,225)"
      ],
      "metadata": {
        "colab": {
          "base_uri": "https://localhost:8080/"
        },
        "id": "kJf-etF5pmmY",
        "outputId": "43dd0f25-c0b1-49f6-c8d8-25d7784c4382"
      },
      "execution_count": null,
      "outputs": [
        {
          "output_type": "execute_result",
          "data": {
            "text/plain": [
              "(99.00810347848784, 980.9918965215122)"
            ]
          },
          "metadata": {},
          "execution_count": 10
        }
      ]
    },
    {
      "cell_type": "code",
      "source": [
        "#q5 which of division will make loss\n",
        "#div1\n",
        "round(stats.norm.cdf(0,loc=5,scale=3),4)*100"
      ],
      "metadata": {
        "colab": {
          "base_uri": "https://localhost:8080/"
        },
        "id": "WXfYiP4Ius3e",
        "outputId": "7cf0ad0c-9feb-491f-d41f-44e1c4411793"
      },
      "execution_count": null,
      "outputs": [
        {
          "output_type": "execute_result",
          "data": {
            "text/plain": [
              "4.78"
            ]
          },
          "metadata": {},
          "execution_count": 11
        }
      ]
    },
    {
      "cell_type": "code",
      "source": [
        "#div2\n",
        "round(stats.norm.cdf(0,loc=7,scale=4),4)*100"
      ],
      "metadata": {
        "colab": {
          "base_uri": "https://localhost:8080/"
        },
        "id": "nave8Kxrys1w",
        "outputId": "341c409d-4343-424d-a9ca-454e1996c867"
      },
      "execution_count": null,
      "outputs": [
        {
          "output_type": "execute_result",
          "data": {
            "text/plain": [
              "4.01"
            ]
          },
          "metadata": {},
          "execution_count": 12
        }
      ]
    }
  ]
}