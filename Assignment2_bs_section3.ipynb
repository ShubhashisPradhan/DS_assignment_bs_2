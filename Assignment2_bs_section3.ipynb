{
  "nbformat": 4,
  "nbformat_minor": 0,
  "metadata": {
    "colab": {
      "provenance": []
    },
    "kernelspec": {
      "name": "python3",
      "display_name": "Python 3"
    },
    "language_info": {
      "name": "python"
    }
  },
  "cells": [
    {
      "cell_type": "code",
      "execution_count": null,
      "metadata": {
        "id": "12gcgD18EPv_"
      },
      "outputs": [],
      "source": [
        "import numpy as np\n",
        "from scipy import stats\n",
        "from scipy.stats import norm"
      ]
    },
    {
      "cell_type": "code",
      "source": [
        "# Apply One-Sample One-Tail z-test\n",
        "z_scores=(0.046-0.05)/(np.sqrt((0.05*(1-0.05))/2000))\n",
        "round(z_scores,4)"
      ],
      "metadata": {
        "colab": {
          "base_uri": "https://localhost:8080/"
        },
        "id": "xilu_f8ZElap",
        "outputId": "54267ed4-3fe2-41b5-cc11-30ef821bb4cc"
      },
      "execution_count": null,
      "outputs": [
        {
          "output_type": "execute_result",
          "data": {
            "text/plain": [
              "-0.8208"
            ]
          },
          "metadata": {},
          "execution_count": 5
        }
      ]
    },
    {
      "cell_type": "code",
      "source": [
        "# Find Probability assuming null hyposthesis, so as to compare with Type-1 error α = 0.05\n",
        "p_value=1-stats.norm.cdf(abs(z_scores))\n",
        "round(p_value,4)"
      ],
      "metadata": {
        "colab": {
          "base_uri": "https://localhost:8080/"
        },
        "id": "tj3WlqlxFPsF",
        "outputId": "a2baec01-246a-400f-deac-da0d8c560615"
      },
      "execution_count": null,
      "outputs": [
        {
          "output_type": "execute_result",
          "data": {
            "text/plain": [
              "0.2059"
            ]
          },
          "metadata": {},
          "execution_count": 6
        }
      ]
    },
    {
      "cell_type": "code",
      "source": [],
      "metadata": {
        "id": "ZgaRhU2_Fjeg"
      },
      "execution_count": null,
      "outputs": []
    }
  ]
}